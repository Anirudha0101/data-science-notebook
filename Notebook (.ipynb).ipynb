{
 "cells": [
  {
   "cell_type": "markdown",
   "id": "30e0a3a7-a627-492e-89ff-2e6fce23160e",
   "metadata": {},
   "source": [
    "# Data Science Tools and ecosystem"
   ]
  },
  {
   "cell_type": "markdown",
   "id": "6e79e8bb-70cd-4d03-8bcd-96a423e13ac0",
   "metadata": {},
   "source": [
    "in this notebook , Data Science Tools and ecosystem are summarized."
   ]
  },
  {
   "cell_type": "markdown",
   "id": "c35432e4-4b43-463e-966e-184c96d78e92",
   "metadata": {},
   "source": [
    "Some of the popular languages that Data Scientists use are:\r\n",
    "\r\n",
    "1. **Python** – Widely used for its simplicity, rich ecosystem, and powerful libraries like pandas, NumPy, scikit-learn, and TensorFlow.\r\n",
    "2. **R** – Preferred for statistical analysis and data visualization, with packages like ggplot2 and dplyr.\r\n",
    "3. **SQL** – Essential for querying and managing data stored in relational databases.\r\n",
    "4. **Julia** – Gaining popularity for high-performance numerical and scientific computing.\r\n",
    "5. **Scala** – Often used with Apache Spark for big data processing.\r\n",
    "\r\n"
   ]
  },
  {
   "cell_type": "markdown",
   "id": "2c405111-9447-471b-a303-41cbbe8f20c1",
   "metadata": {},
   "source": [
    "Some of the commonly used libraries used by Data Scientists include:\r\n",
    "\r\n",
    "1. **pandas** – Provides high-performance data manipulation and analysis tools.\r\n",
    "2. **NumPy** – Supports large, multi-dimensional arrays and matrices, along with a collection of mathematical functions.\r\n",
    "3. **scikit-learn** – A powerful library for machine learning, offering tools for classification, regression, and clustering.\r\n",
    "4. **Matplotlib** – A versatile library for creating static, animated, and interactive visualizations in Python.\r\n",
    "5. **TensorFlow** – An open-source framework for deep learning and machine learning developed by Google.\r\n",
    "\r\n"
   ]
  },
  {
   "cell_type": "markdown",
   "id": "26650df8-bec6-4754-b512-aa5a8073c7cd",
   "metadata": {},
   "source": [
    "| Data Science Tools        |\r\n",
    "|---------------------------|\r\n",
    "| Jupyter Notebook          |\r\n",
    "| RStudio                   |\r\n",
    "| VS Code                   |\r\n"
   ]
  },
  {
   "cell_type": "code",
   "execution_count": 1,
   "id": "d7a150a9-b945-45c3-9197-63b152b62c40",
   "metadata": {},
   "outputs": [
    {
     "data": {
      "text/plain": [
       "17"
      ]
     },
     "execution_count": 1,
     "metadata": {},
     "output_type": "execute_result"
    }
   ],
   "source": [
    "# This is a simple arithmetic expression to multiply then add integers\n",
    "(3 * 4) + 5\n"
   ]
  },
  {
   "cell_type": "code",
   "execution_count": 2,
   "id": "cbd00060-2ca5-4cf4-bdf2-9a26387cd8d2",
   "metadata": {},
   "outputs": [
    {
     "data": {
      "text/plain": [
       "3.3333333333333335"
      ]
     },
     "execution_count": 2,
     "metadata": {},
     "output_type": "execute_result"
    }
   ],
   "source": [
    "# This will convert 200 minutes to hours by dividing by 60\n",
    "200 / 60\n"
   ]
  },
  {
   "cell_type": "markdown",
   "id": "d87248b6-d72a-486f-a463-4ed2f95b0ca1",
   "metadata": {},
   "source": [
    "**Objectives:**\r\n",
    "\r\n",
    "- List popular languages for Data Science\r\n",
    "- Identify commonly used data science libraries\r\n",
    "- Create and interpret simple arithmetic expressions in Python\r\n",
    "- Convert minutes to hours using Python code\r\n",
    "- Create and format tables using markdown\r\n"
   ]
  },
  {
   "cell_type": "markdown",
   "id": "b6176d62-9e5c-46a7-805b-e1c0f598b3e6",
   "metadata": {},
   "source": [
    "## Author\r\n",
    "\r\n",
    "Anirudha\r\n"
   ]
  },
  {
   "cell_type": "code",
   "execution_count": null,
   "id": "2a865c51-a649-4cd6-9386-75ebdda07798",
   "metadata": {},
   "outputs": [],
   "source": []
  }
 ],
 "metadata": {
  "kernelspec": {
   "display_name": "Python 3 (ipykernel)",
   "language": "python",
   "name": "python3"
  },
  "language_info": {
   "codemirror_mode": {
    "name": "ipython",
    "version": 3
   },
   "file_extension": ".py",
   "mimetype": "text/x-python",
   "name": "python",
   "nbconvert_exporter": "python",
   "pygments_lexer": "ipython3",
   "version": "3.12.4"
  }
 },
 "nbformat": 4,
 "nbformat_minor": 5
}
